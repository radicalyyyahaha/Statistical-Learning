{
 "cells": [
  {
   "cell_type": "code",
   "execution_count": 1,
   "metadata": {
    "tags": []
   },
   "outputs": [],
   "source": [
    "import os\n",
    "import librosa\n",
    "import numpy as np\n",
    "import torch\n",
    "import torch.nn as nn\n",
    "import torch.optim as optim\n",
    "from torch.utils.data import Dataset, DataLoader\n",
    "import torch.nn.functional as F"
   ]
  },
  {
   "cell_type": "code",
   "execution_count": 2,
   "metadata": {
    "tags": []
   },
   "outputs": [],
   "source": [
    "class ResidualBlock(nn.Module):\n",
    "    def __init__(self, in_channels, out_channels, stride=1):\n",
    "        super(ResidualBlock, self).__init__()\n",
    "        self.conv1 = nn.Conv2d(in_channels, out_channels, kernel_size=3, stride=stride, padding=1)\n",
    "        self.bn1 = nn.BatchNorm2d(out_channels)\n",
    "        self.relu = nn.ReLU(inplace=True)\n",
    "        self.conv2 = nn.Conv2d(out_channels, out_channels, kernel_size=3, stride=1, padding=1)\n",
    "        self.bn2 = nn.BatchNorm2d(out_channels)\n",
    "        self.downsample = nn.Sequential(\n",
    "            nn.Conv2d(in_channels, out_channels, kernel_size=1, stride=stride),\n",
    "            nn.BatchNorm2d(out_channels)\n",
    "        ) if stride != 1 or in_channels != out_channels else None\n",
    "\n",
    "    def forward(self, x):\n",
    "        residual = x\n",
    "        out = self.conv1(x)\n",
    "        out = self.bn1(out)\n",
    "        out = self.relu(out)\n",
    "        out = self.conv2(out)\n",
    "        out = self.bn2(out)\n",
    "        if self.downsample is not None:\n",
    "            residual = self.downsample(x)\n",
    "        out += residual\n",
    "        out = self.relu(out)\n",
    "        return out\n"
   ]
  },
  {
   "cell_type": "code",
   "execution_count": 3,
   "metadata": {
    "tags": []
   },
   "outputs": [
    {
     "name": "stdout",
     "output_type": "stream",
     "text": [
      "Output size: torch.Size([32, 50])\n"
     ]
    }
   ],
   "source": [
    "class AudioCNN(nn.Module):\n",
    "    def __init__(self, num_classes, conv1_channels=128, conv2_channels=256, fc1_out_features=256):\n",
    "        super(AudioCNN, self).__init__()\n",
    "        self.conv1 = ResidualBlock(1, conv1_channels)\n",
    "        self.conv2 = ResidualBlock(conv1_channels, conv2_channels)\n",
    "        self.pool = nn.AdaptiveAvgPool2d((1, 1))\n",
    "        self.fc1 = nn.Linear(conv2_channels, fc1_out_features)\n",
    "        self.fc2 = nn.Linear(fc1_out_features, num_classes)\n",
    "\n",
    "    def forward(self, x):\n",
    "        x = self.conv1(x)\n",
    "        x = self.conv2(x)\n",
    "        x = self.pool(x)\n",
    "        x = x.view(x.size(0), -1)\n",
    "        x = F.relu(self.fc1(x))\n",
    "        x = self.fc2(x)\n",
    "        return x\n",
    "\n",
    "model = AudioCNN(num_classes=50, conv1_channels=128, conv2_channels=256, fc1_out_features=256)\n",
    "\n",
    "device = torch.device(\"cuda\" if torch.cuda.is_available() else \"cpu\")\n",
    "model.to(device)\n",
    "\n",
    "dummy_input = torch.randn(32, 1, 44, 14)\n",
    "\n",
    "output = model(dummy_input.to(device))\n",
    "print(\"Output size:\", output.size())"
   ]
  },
  {
   "cell_type": "code",
   "execution_count": 4,
   "metadata": {
    "tags": []
   },
   "outputs": [],
   "source": [
    "learning_rate = 0.001\n",
    "batch_size = 16\n",
    "num_epochs = 35"
   ]
  },
  {
   "cell_type": "code",
   "execution_count": 6,
   "metadata": {
    "tags": []
   },
   "outputs": [],
   "source": [
    "class ESC50Dataset(Dataset):\n",
    "    def __init__(self, data, labels):\n",
    "        self.data = data\n",
    "        self.labels = labels\n",
    "\n",
    "    def __len__(self):\n",
    "        return len(self.data)\n",
    "\n",
    "    def __getitem__(self, idx):\n",
    "        mel_spec = torch.tensor(self.data[idx], dtype=torch.float32).unsqueeze(0)  # Add channel dimension\n",
    "        label = torch.tensor(self.labels[idx], dtype=torch.long)\n",
    "        return mel_spec, label"
   ]
  },
  {
   "cell_type": "code",
   "execution_count": 7,
   "metadata": {
    "tags": []
   },
   "outputs": [],
   "source": [
    "def load_esc50_data(base_path):\n",
    "    data = []\n",
    "    labels = []\n",
    "\n",
    "    for root, dirs, files in os.walk(base_path):\n",
    "        for file in files:\n",
    "            if file.endswith(\".wav\"):\n",
    "                file_path = os.path.join(root, file)\n",
    "                label = int(file.split(\"-\")[-1].split(\".\")[0])\n",
    "                audio_data, _ = librosa.load(file_path, sr=None)\n",
    "                mel_spec = librosa.feature.melspectrogram(y=audio_data, sr=44100)\n",
    "                mel_spec_db = librosa.power_to_db(mel_spec, ref=np.max)\n",
    "                data.append(mel_spec_db)\n",
    "                labels.append(label)\n",
    "\n",
    "    return np.array(data), np.array(labels)"
   ]
  },
  {
   "cell_type": "code",
   "execution_count": 7,
   "metadata": {
    "tags": []
   },
   "outputs": [],
   "source": [
    "esc50_path = \"./ESC-50-master\"\n",
    "\n",
    "data, labels = load_esc50_data(esc50_path)\n",
    "\n",
    "split_ratio = 0.8\n",
    "split_idx = int(len(data) * split_ratio)\n",
    "\n",
    "train_data, train_labels = data[:split_idx], labels[:split_idx]\n",
    "test_data, test_labels = data[split_idx:], labels[split_idx:]\n",
    "\n",
    "train_dataset = ESC50Dataset(train_data, train_labels)\n",
    "train_dataloader = DataLoader(train_dataset, batch_size, shuffle=True)\n",
    "\n",
    "test_dataset = ESC50Dataset(test_data, test_labels)\n",
    "test_dataloader = DataLoader(test_dataset, batch_size, shuffle=False)"
   ]
  },
  {
   "cell_type": "code",
   "execution_count": 8,
   "metadata": {
    "tags": []
   },
   "outputs": [],
   "source": [
    "optimizer = torch.optim.Adam(model.parameters(), lr=learning_rate)\n",
    "criterion = nn.CrossEntropyLoss()"
   ]
  },
  {
   "cell_type": "code",
   "execution_count": 9,
   "metadata": {
    "tags": []
   },
   "outputs": [
    {
     "ename": "NameError",
     "evalue": "name 'train_dataloader' is not defined",
     "output_type": "error",
     "traceback": [
      "\u001b[0;31m---------------------------------------------------------------------------\u001b[0m",
      "\u001b[0;31mNameError\u001b[0m                                 Traceback (most recent call last)",
      "\u001b[1;32m/Users/mugi/course/2023Fall/Statistical-Learning/project/GPT.ipynb 单元格 9\u001b[0m line \u001b[0;36m3\n\u001b[1;32m      <a href='vscode-notebook-cell:/Users/mugi/course/2023Fall/Statistical-Learning/project/GPT.ipynb#X11sZmlsZQ%3D%3D?line=0'>1</a>\u001b[0m \u001b[39mfor\u001b[39;00m epoch \u001b[39min\u001b[39;00m \u001b[39mrange\u001b[39m(num_epochs):\n\u001b[1;32m      <a href='vscode-notebook-cell:/Users/mugi/course/2023Fall/Statistical-Learning/project/GPT.ipynb#X11sZmlsZQ%3D%3D?line=1'>2</a>\u001b[0m     model\u001b[39m.\u001b[39mtrain()\n\u001b[0;32m----> <a href='vscode-notebook-cell:/Users/mugi/course/2023Fall/Statistical-Learning/project/GPT.ipynb#X11sZmlsZQ%3D%3D?line=2'>3</a>\u001b[0m     \u001b[39mfor\u001b[39;00m inputs, labels \u001b[39min\u001b[39;00m train_dataloader:\n\u001b[1;32m      <a href='vscode-notebook-cell:/Users/mugi/course/2023Fall/Statistical-Learning/project/GPT.ipynb#X11sZmlsZQ%3D%3D?line=3'>4</a>\u001b[0m         optimizer\u001b[39m.\u001b[39mzero_grad()\n\u001b[1;32m      <a href='vscode-notebook-cell:/Users/mugi/course/2023Fall/Statistical-Learning/project/GPT.ipynb#X11sZmlsZQ%3D%3D?line=4'>5</a>\u001b[0m         outputs \u001b[39m=\u001b[39m model(inputs\u001b[39m.\u001b[39mto(device))\n",
      "\u001b[0;31mNameError\u001b[0m: name 'train_dataloader' is not defined"
     ]
    }
   ],
   "source": [
    "for epoch in range(num_epochs):\n",
    "    model.train()\n",
    "    for inputs, labels in train_dataloader:\n",
    "        optimizer.zero_grad()\n",
    "        outputs = model(inputs.to(device))\n",
    "        loss = criterion(outputs.to(device), labels.to(device))\n",
    "        loss.backward()\n",
    "        optimizer.step()\n",
    "\n",
    "    model.eval()\n",
    "    correct = 0\n",
    "    total = 0\n",
    "    with torch.no_grad():\n",
    "        for inputs, labels in test_dataloader:\n",
    "            outputs = model(inputs.to(device))\n",
    "            _, predicted = torch.max(outputs.data, 1)\n",
    "            total += labels.size(0)\n",
    "            correct += (predicted == labels.to(device)).sum().item()\n",
    "\n",
    "    accuracy = correct / total\n",
    "    print(f'Epoch {epoch+1}/{num_epochs}, Loss: {loss.item():.4f}, Test Accuracy: {accuracy:.4f}')\n",
    "\n",
    "torch.save(model.state_dict(), 'audio_cnn_model.pth')"
   ]
  },
  {
   "cell_type": "code",
   "execution_count": 10,
   "metadata": {},
   "outputs": [
    {
     "data": {
      "text/plain": [
       "AudioCNN(\n",
       "  (conv1): ResidualBlock(\n",
       "    (conv1): Conv2d(1, 128, kernel_size=(3, 3), stride=(1, 1), padding=(1, 1))\n",
       "    (bn1): BatchNorm2d(128, eps=1e-05, momentum=0.1, affine=True, track_running_stats=True)\n",
       "    (relu): ReLU(inplace=True)\n",
       "    (conv2): Conv2d(128, 128, kernel_size=(3, 3), stride=(1, 1), padding=(1, 1))\n",
       "    (bn2): BatchNorm2d(128, eps=1e-05, momentum=0.1, affine=True, track_running_stats=True)\n",
       "    (downsample): Sequential(\n",
       "      (0): Conv2d(1, 128, kernel_size=(1, 1), stride=(1, 1))\n",
       "      (1): BatchNorm2d(128, eps=1e-05, momentum=0.1, affine=True, track_running_stats=True)\n",
       "    )\n",
       "  )\n",
       "  (conv2): ResidualBlock(\n",
       "    (conv1): Conv2d(128, 256, kernel_size=(3, 3), stride=(1, 1), padding=(1, 1))\n",
       "    (bn1): BatchNorm2d(256, eps=1e-05, momentum=0.1, affine=True, track_running_stats=True)\n",
       "    (relu): ReLU(inplace=True)\n",
       "    (conv2): Conv2d(256, 256, kernel_size=(3, 3), stride=(1, 1), padding=(1, 1))\n",
       "    (bn2): BatchNorm2d(256, eps=1e-05, momentum=0.1, affine=True, track_running_stats=True)\n",
       "    (downsample): Sequential(\n",
       "      (0): Conv2d(128, 256, kernel_size=(1, 1), stride=(1, 1))\n",
       "      (1): BatchNorm2d(256, eps=1e-05, momentum=0.1, affine=True, track_running_stats=True)\n",
       "    )\n",
       "  )\n",
       "  (pool): AdaptiveAvgPool2d(output_size=(1, 1))\n",
       "  (fc1): Linear(in_features=256, out_features=256, bias=True)\n",
       "  (fc2): Linear(in_features=256, out_features=50, bias=True)\n",
       ")"
      ]
     },
     "execution_count": 10,
     "metadata": {},
     "output_type": "execute_result"
    }
   ],
   "source": [
    "model = AudioCNN(num_classes=50, conv1_channels=128, conv2_channels=256, fc1_out_features=256)\n",
    "model.load_state_dict(torch.load('./audio_cnn_model.pth', map_location=torch.device('cpu')))\n",
    "model.eval()  "
   ]
  },
  {
   "cell_type": "code",
   "execution_count": 11,
   "metadata": {},
   "outputs": [],
   "source": [
    "class_index_to_name = {\n",
    "    0: 'airplane',\n",
    "    1: 'breathing',\n",
    "    2: 'brushing_teeth',\n",
    "    3: 'can_opening',\n",
    "    4: 'car_horn',\n",
    "    5: 'cat',\n",
    "    6: 'chainsaw',\n",
    "    7: 'chirping_birds',\n",
    "    8: 'church_bells',\n",
    "    9: 'clapping',\n",
    "    10: 'clock_alarm',\n",
    "    11: 'clock_tick',\n",
    "    12: 'coughing',\n",
    "    13: 'cow',\n",
    "    14: 'crackling_fire',\n",
    "    15: 'crickets',\n",
    "    16: 'crow',\n",
    "    17: 'crying_baby',\n",
    "    18: 'dog',\n",
    "    19: 'door_wood_creaks',\n",
    "    20: 'door_wood_knock',\n",
    "    21: 'drinking_sipping',\n",
    "    22: 'engine',\n",
    "    23: 'fireworks',\n",
    "    24: 'footsteps',\n",
    "    25: 'frog',\n",
    "    26: 'glass_breaking',\n",
    "    27: 'hand_saw',\n",
    "    28: 'helicopter',\n",
    "    29: 'hen',\n",
    "    30: 'insects',\n",
    "    31: 'keyboard_typing',\n",
    "    32: 'laughing',\n",
    "    33: 'mouse_click',\n",
    "    34: 'pig',\n",
    "    35: 'pouring_water',\n",
    "    36: 'rain',\n",
    "    37: 'rooster',\n",
    "    38: 'sea_waves',\n",
    "    39: 'sheep',\n",
    "    40: 'siren',\n",
    "    41: 'sneezing',\n",
    "    42: 'snoring',\n",
    "    43: 'thunderstorm',\n",
    "    44: 'toilet_flush',\n",
    "    45: 'train',\n",
    "    46: 'vacuum_cleaner',\n",
    "    47: 'washing_machine',\n",
    "    48: 'water_drops',\n",
    "    49: 'wind'\n",
    "}\n"
   ]
  },
  {
   "cell_type": "code",
   "execution_count": 16,
   "metadata": {},
   "outputs": [
    {
     "name": "stdout",
     "output_type": "stream",
     "text": [
      "The predicted class for /Users/mugi/course/2023Fall/Statistical-Learning/project/1-32318-A-0.wav is: mouse_click\n"
     ]
    }
   ],
   "source": [
    "import torchaudio\n",
    "import torchaudio.transforms as T\n",
    "import torch\n",
    "\n",
    "def preprocess_audio(audio_path, num_mels=128, sample_rate=44100):\n",
    "    waveform, _ = torchaudio.load(audio_path, normalize=True)\n",
    "\n",
    "    mel_transform = T.MelSpectrogram(sample_rate=sample_rate, n_mels=num_mels)\n",
    "    mel_spec = mel_transform(waveform)\n",
    "\n",
    "    mel_spec_db = torchaudio.transforms.AmplitudeToDB()(mel_spec)\n",
    "    mel_spec_db_scaled = torch.nn.functional.interpolate(mel_spec_db.unsqueeze(0), size=(44, 14)).squeeze(0)\n",
    "\n",
    "    return mel_spec_db_scaled\n",
    "\n",
    "def inference(model, audio_path, class_index_to_name):\n",
    "    input_waveform = preprocess_audio(audio_path)\n",
    "\n",
    "    input_waveform = input_waveform.unsqueeze(0)\n",
    "\n",
    "    with torch.no_grad():\n",
    "        output = model(input_waveform)\n",
    "\n",
    "    _, predicted_class = torch.max(output, 1)\n",
    "\n",
    "    predicted_class_name = class_index_to_name[predicted_class.item()]\n",
    "\n",
    "    return predicted_class_name\n",
    "\n",
    "audio_file_path = '/Users/mugi/course/2023Fall/Statistical-Learning/project/1-32318-A-0.wav'\n",
    "\n",
    "predicted_class_name = inference(model, audio_file_path, class_index_to_name)\n",
    "\n",
    "print(f\"The predicted class for {audio_file_path} is: {predicted_class_name}\")"
   ]
  }
 ],
 "metadata": {
  "kernelspec": {
   "display_name": "Python 3 (ipykernel)",
   "language": "python",
   "name": "python3"
  },
  "language_info": {
   "codemirror_mode": {
    "name": "ipython",
    "version": 3
   },
   "file_extension": ".py",
   "mimetype": "text/x-python",
   "name": "python",
   "nbconvert_exporter": "python",
   "pygments_lexer": "ipython3",
   "version": "3.11.5"
  }
 },
 "nbformat": 4,
 "nbformat_minor": 4
}
