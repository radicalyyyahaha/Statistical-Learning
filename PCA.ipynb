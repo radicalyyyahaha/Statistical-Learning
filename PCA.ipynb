{
 "cells": [
  {
   "cell_type": "code",
   "execution_count": 11,
   "metadata": {},
   "outputs": [],
   "source": [
    "import matplotlib.pyplot as plt\n",
    "import pandas as pd\n",
    "import numpy as np"
   ]
  },
  {
   "cell_type": "code",
   "execution_count": 4,
   "metadata": {},
   "outputs": [
    {
     "data": {
      "text/html": [
       "<div>\n",
       "<style scoped>\n",
       "    .dataframe tbody tr th:only-of-type {\n",
       "        vertical-align: middle;\n",
       "    }\n",
       "\n",
       "    .dataframe tbody tr th {\n",
       "        vertical-align: top;\n",
       "    }\n",
       "\n",
       "    .dataframe thead th {\n",
       "        text-align: right;\n",
       "    }\n",
       "</style>\n",
       "<table border=\"1\" class=\"dataframe\">\n",
       "  <thead>\n",
       "    <tr style=\"text-align: right;\">\n",
       "      <th></th>\n",
       "      <th>0</th>\n",
       "      <th>1</th>\n",
       "      <th>2</th>\n",
       "      <th>3</th>\n",
       "      <th>4</th>\n",
       "    </tr>\n",
       "  </thead>\n",
       "  <tbody>\n",
       "    <tr>\n",
       "      <th>0</th>\n",
       "      <td>1</td>\n",
       "      <td>2</td>\n",
       "      <td>3</td>\n",
       "      <td>4</td>\n",
       "      <td>5</td>\n",
       "    </tr>\n",
       "    <tr>\n",
       "      <th>1</th>\n",
       "      <td>1</td>\n",
       "      <td>2</td>\n",
       "      <td>3</td>\n",
       "      <td>4</td>\n",
       "      <td>5</td>\n",
       "    </tr>\n",
       "    <tr>\n",
       "      <th>2</th>\n",
       "      <td>2</td>\n",
       "      <td>4</td>\n",
       "      <td>5</td>\n",
       "      <td>2</td>\n",
       "      <td>5</td>\n",
       "    </tr>\n",
       "    <tr>\n",
       "      <th>3</th>\n",
       "      <td>3</td>\n",
       "      <td>4</td>\n",
       "      <td>6</td>\n",
       "      <td>7</td>\n",
       "      <td>3</td>\n",
       "    </tr>\n",
       "    <tr>\n",
       "      <th>4</th>\n",
       "      <td>2</td>\n",
       "      <td>3</td>\n",
       "      <td>6</td>\n",
       "      <td>2</td>\n",
       "      <td>6</td>\n",
       "    </tr>\n",
       "    <tr>\n",
       "      <th>5</th>\n",
       "      <td>4</td>\n",
       "      <td>6</td>\n",
       "      <td>8</td>\n",
       "      <td>3</td>\n",
       "      <td>8</td>\n",
       "    </tr>\n",
       "  </tbody>\n",
       "</table>\n",
       "</div>"
      ],
      "text/plain": [
       "   0  1  2  3  4\n",
       "0  1  2  3  4  5\n",
       "1  1  2  3  4  5\n",
       "2  2  4  5  2  5\n",
       "3  3  4  6  7  3\n",
       "4  2  3  6  2  6\n",
       "5  4  6  8  3  8"
      ]
     },
     "execution_count": 4,
     "metadata": {},
     "output_type": "execute_result"
    }
   ],
   "source": [
    "df = pd.read_csv('data/PCA.txt', header=None)\n",
    "df"
   ]
  },
  {
   "cell_type": "code",
   "execution_count": 5,
   "metadata": {},
   "outputs": [
    {
     "data": {
      "text/html": [
       "<div>\n",
       "<style scoped>\n",
       "    .dataframe tbody tr th:only-of-type {\n",
       "        vertical-align: middle;\n",
       "    }\n",
       "\n",
       "    .dataframe tbody tr th {\n",
       "        vertical-align: top;\n",
       "    }\n",
       "\n",
       "    .dataframe thead th {\n",
       "        text-align: right;\n",
       "    }\n",
       "</style>\n",
       "<table border=\"1\" class=\"dataframe\">\n",
       "  <thead>\n",
       "    <tr style=\"text-align: right;\">\n",
       "      <th></th>\n",
       "      <th>0</th>\n",
       "      <th>1</th>\n",
       "      <th>2</th>\n",
       "      <th>3</th>\n",
       "      <th>4</th>\n",
       "    </tr>\n",
       "  </thead>\n",
       "  <tbody>\n",
       "    <tr>\n",
       "      <th>0</th>\n",
       "      <td>-1.093216</td>\n",
       "      <td>-1.083473</td>\n",
       "      <td>-1.222937</td>\n",
       "      <td>0.196116</td>\n",
       "      <td>-0.223607</td>\n",
       "    </tr>\n",
       "    <tr>\n",
       "      <th>1</th>\n",
       "      <td>-1.093216</td>\n",
       "      <td>-1.083473</td>\n",
       "      <td>-1.222937</td>\n",
       "      <td>0.196116</td>\n",
       "      <td>-0.223607</td>\n",
       "    </tr>\n",
       "    <tr>\n",
       "      <th>2</th>\n",
       "      <td>-0.156174</td>\n",
       "      <td>0.361158</td>\n",
       "      <td>-0.094072</td>\n",
       "      <td>-0.980581</td>\n",
       "      <td>-0.223607</td>\n",
       "    </tr>\n",
       "    <tr>\n",
       "      <th>3</th>\n",
       "      <td>0.780869</td>\n",
       "      <td>0.361158</td>\n",
       "      <td>0.470360</td>\n",
       "      <td>1.961161</td>\n",
       "      <td>-1.565248</td>\n",
       "    </tr>\n",
       "    <tr>\n",
       "      <th>4</th>\n",
       "      <td>-0.156174</td>\n",
       "      <td>-0.361158</td>\n",
       "      <td>0.470360</td>\n",
       "      <td>-0.980581</td>\n",
       "      <td>0.447214</td>\n",
       "    </tr>\n",
       "    <tr>\n",
       "      <th>5</th>\n",
       "      <td>1.717911</td>\n",
       "      <td>1.805788</td>\n",
       "      <td>1.599225</td>\n",
       "      <td>-0.392232</td>\n",
       "      <td>1.788854</td>\n",
       "    </tr>\n",
       "  </tbody>\n",
       "</table>\n",
       "</div>"
      ],
      "text/plain": [
       "          0         1         2         3         4\n",
       "0 -1.093216 -1.083473 -1.222937  0.196116 -0.223607\n",
       "1 -1.093216 -1.083473 -1.222937  0.196116 -0.223607\n",
       "2 -0.156174  0.361158 -0.094072 -0.980581 -0.223607\n",
       "3  0.780869  0.361158  0.470360  1.961161 -1.565248\n",
       "4 -0.156174 -0.361158  0.470360 -0.980581  0.447214\n",
       "5  1.717911  1.805788  1.599225 -0.392232  1.788854"
      ]
     },
     "execution_count": 5,
     "metadata": {},
     "output_type": "execute_result"
    }
   ],
   "source": [
    "def col_Normalization(df):\n",
    "    for i in df.columns:\n",
    "        dt = df[i].values\n",
    "        \n",
    "        mean = dt.mean()\n",
    "        std = dt.std()\n",
    "        df[i] = (df[i]-mean)/std\n",
    "    return df\n",
    "\n",
    "X = col_Normalization(df)\n",
    "X"
   ]
  },
  {
   "cell_type": "code",
   "execution_count": 6,
   "metadata": {},
   "outputs": [
    {
     "data": {
      "text/plain": [
       "matrix([[ 1.        ,  0.95885669,  0.95495346,  0.12251278,  0.38413666],\n",
       "        [ 0.95885669,  1.        ,  0.91732082, -0.07082882,  0.48454371],\n",
       "        [ 0.95495346,  0.91732082,  1.        , -0.09224527,  0.48380864],\n",
       "        [ 0.12251278, -0.07082882, -0.09224527,  1.        , -0.67971996],\n",
       "        [ 0.38413666,  0.48454371,  0.48380864, -0.67971996,  1.        ]])"
      ]
     },
     "execution_count": 6,
     "metadata": {},
     "output_type": "execute_result"
    }
   ],
   "source": [
    "def cov(X):\n",
    "    C = np.matrix(X).T * np.matrix(X)/np.matrix(X).shape[0]\n",
    "\n",
    "    return C\n",
    "\n",
    "C = cov(X)\n",
    "C"
   ]
  },
  {
   "cell_type": "code",
   "execution_count": 7,
   "metadata": {},
   "outputs": [
    {
     "data": {
      "text/plain": [
       "(matrix([[-0.52393307,  0.28386112,  0.03104995,  0.01486618, -0.80232905],\n",
       "         [-0.53673761,  0.14223955, -0.14907607, -0.72374449,  0.38164235],\n",
       "         [-0.5368449 ,  0.13026768, -0.25271998,  0.68650097,  0.39959594],\n",
       "         [ 0.12366616,  0.76249286,  0.59639546,  0.04760224,  0.21297372],\n",
       "         [-0.36593867, -0.54847584,  0.74649668,  0.04922751,  0.07471612]]),\n",
       " array([3.20015910e+00, 1.50557241e+00, 2.12379014e-01, 8.18894690e-02,\n",
       "        5.59441469e-17]),\n",
       " matrix([[-0.52393307, -0.53673761, -0.5368449 ,  0.12366616, -0.36593867],\n",
       "         [ 0.28386112,  0.14223955,  0.13026768,  0.76249286, -0.54847584],\n",
       "         [ 0.03104995, -0.14907607, -0.25271998,  0.59639546,  0.74649668],\n",
       "         [ 0.01486618, -0.72374449,  0.68650097,  0.04760224,  0.04922751],\n",
       "         [ 0.80232905, -0.38164235, -0.39959594, -0.21297372, -0.07471612]]))"
      ]
     },
     "execution_count": 7,
     "metadata": {},
     "output_type": "execute_result"
    }
   ],
   "source": [
    "def features(C):\n",
    "    U, S, V = np.linalg.svd(C)\n",
    "    return U, S, V\n",
    "\n",
    "u, s, v = features(C)\n",
    "u, s, v"
   ]
  },
  {
   "cell_type": "code",
   "execution_count": 17,
   "metadata": {},
   "outputs": [
    {
     "data": {
      "text/html": [
       "<div>\n",
       "<style scoped>\n",
       "    .dataframe tbody tr th:only-of-type {\n",
       "        vertical-align: middle;\n",
       "    }\n",
       "\n",
       "    .dataframe tbody tr th {\n",
       "        vertical-align: top;\n",
       "    }\n",
       "\n",
       "    .dataframe thead th {\n",
       "        text-align: right;\n",
       "    }\n",
       "</style>\n",
       "<table border=\"1\" class=\"dataframe\">\n",
       "  <thead>\n",
       "    <tr style=\"text-align: right;\">\n",
       "      <th></th>\n",
       "      <th>Principal Component 1</th>\n",
       "      <th>Principal Component 2</th>\n",
       "    </tr>\n",
       "  </thead>\n",
       "  <tbody>\n",
       "    <tr>\n",
       "      <th>0</th>\n",
       "      <td>1.916920</td>\n",
       "      <td>-0.351563</td>\n",
       "    </tr>\n",
       "    <tr>\n",
       "      <th>1</th>\n",
       "      <td>1.916920</td>\n",
       "      <td>-0.351563</td>\n",
       "    </tr>\n",
       "    <tr>\n",
       "      <th>2</th>\n",
       "      <td>-0.100958</td>\n",
       "      <td>-0.630258</td>\n",
       "    </tr>\n",
       "    <tr>\n",
       "      <th>3</th>\n",
       "      <td>-0.040167</td>\n",
       "      <td>2.688174</td>\n",
       "    </tr>\n",
       "    <tr>\n",
       "      <th>4</th>\n",
       "      <td>-0.261757</td>\n",
       "      <td>-1.027401</td>\n",
       "    </tr>\n",
       "    <tr>\n",
       "      <th>5</th>\n",
       "      <td>-3.430958</td>\n",
       "      <td>-0.327388</td>\n",
       "    </tr>\n",
       "  </tbody>\n",
       "</table>\n",
       "</div>"
      ],
      "text/plain": [
       "   Principal Component 1  Principal Component 2\n",
       "0               1.916920              -0.351563\n",
       "1               1.916920              -0.351563\n",
       "2              -0.100958              -0.630258\n",
       "3              -0.040167               2.688174\n",
       "4              -0.261757              -1.027401\n",
       "5              -3.430958              -0.327388"
      ]
     },
     "execution_count": 17,
     "metadata": {},
     "output_type": "execute_result"
    }
   ],
   "source": [
    "def projection(X, P, k):\n",
    "    choose = P[:,:k]\n",
    "    return np.dot(X, choose)\n",
    "\n",
    "X_reduced = projection(X, u, 2)\n",
    "X_reduced = pd.DataFrame(data=X_reduced, columns=['Principal Component 1', 'Principal Component 2'])\n",
    "X_reduced"
   ]
  },
  {
   "cell_type": "code",
   "execution_count": 18,
   "metadata": {},
   "outputs": [
    {
     "data": {
      "image/png": "[encoded data removed]",
      "text/plain": [
       "<Figure size 640x480 with 1 Axes>"
      ]
     },
     "metadata": {},
     "output_type": "display_data"
    }
   ],
   "source": [
    "plt.scatter(X_reduced['Principal Component 1'], X_reduced['Principal Component 2'])\n",
    "plt.xlabel('Principal Component 1')\n",
    "plt.ylabel('Principal Component 2')\n",
    "plt.title('PCA Result')\n",
    "plt.show()"
   ]
  },
  {
   "cell_type": "code",
   "execution_count": 1,
   "metadata": {},
   "outputs": [
    {
     "data": {
      "image/png": "[encoded data removed]",
      "text/plain": [
       "<Figure size 640x480 with 1 Axes>"
      ]
     },
     "metadata": {},
     "output_type": "display_data"
    }
   ],
   "source": [
    "# Generated by GPT\n",
    "import pandas as pd\n",
    "from sklearn.decomposition import PCA\n",
    "from sklearn.preprocessing import StandardScaler\n",
    "import matplotlib.pyplot as plt\n",
    "\n",
    "# 1. 读取数据\n",
    "df = pd.read_csv('data/PCA.txt', header=None)  # 如果文件没有列名，需要设置header=None\n",
    "\n",
    "# 2. 标准化数据\n",
    "scaler = StandardScaler()\n",
    "scaled_features = scaler.fit_transform(df)\n",
    "\n",
    "# 3. 使用PCA进行降维\n",
    "# 假设你希望降到2维，你可以调整n_components的值\n",
    "pca = PCA(n_components=2)\n",
    "principal_components = pca.fit_transform(scaled_features)\n",
    "\n",
    "# 4. 将PCA结果转换为DataFrame\n",
    "principal_df = pd.DataFrame(data=principal_components, columns=['Principal Component 1', 'Principal Component 2'])\n",
    "\n",
    "# 5. 可视化PCA结果（仅用于二维降维）\n",
    "plt.scatter(principal_df['Principal Component 1'], principal_df['Principal Component 2'])\n",
    "plt.xlabel('Principal Component 1')\n",
    "plt.ylabel('Principal Component 2')\n",
    "plt.title('PCA Result')\n",
    "plt.show()\n"
   ]
  }
 ],
 "metadata": {
  "kernelspec": {
   "display_name": "base",
   "language": "python",
   "name": "python3"
  },
  "language_info": {
   "codemirror_mode": {
    "name": "ipython",
    "version": 3
   },
   "file_extension": ".py",
   "mimetype": "text/x-python",
   "name": "python",
   "nbconvert_exporter": "python",
   "pygments_lexer": "ipython3",
   "version": "3.11.5"
  }
 },
 "nbformat": 4,
 "nbformat_minor": 2
}
